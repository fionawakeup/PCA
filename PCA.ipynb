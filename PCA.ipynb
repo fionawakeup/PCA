{
 "cells": [
  {
   "cell_type": "markdown",
   "metadata": {},
   "source": [
    "## PCA : use SVD algorithm to calculate the principle components:\n"
   ]
  },
  {
   "cell_type": "markdown",
   "metadata": {},
   "source": [
    "### Data Generation"
   ]
  },
  {
   "cell_type": "code",
   "execution_count": 1,
   "metadata": {},
   "outputs": [],
   "source": [
    "import numpy as np\n",
    "import random\n",
    "from scipy.linalg import svd"
   ]
  },
  {
   "cell_type": "code",
   "execution_count": 2,
   "metadata": {},
   "outputs": [],
   "source": [
    "x, y, z = [], [], []\n",
    "for _ in range(100):\n",
    "    x.append(random.randint(1, 10))\n",
    "    y.append(random.randint(100, 500))\n",
    "    z.append(random.randint(1000, 3000))"
   ]
  },
  {
   "cell_type": "code",
   "execution_count": 3,
   "metadata": {},
   "outputs": [],
   "source": [
    "A = np.array([x, y, z])"
   ]
  },
  {
   "cell_type": "code",
   "execution_count": 4,
   "metadata": {},
   "outputs": [
    {
     "data": {
      "text/plain": [
       "(3, 100)"
      ]
     },
     "execution_count": 4,
     "metadata": {},
     "output_type": "execute_result"
    }
   ],
   "source": [
    "A.shape"
   ]
  },
  {
   "cell_type": "markdown",
   "metadata": {},
   "source": [
    "### Step 1: regularize each feature"
   ]
  },
  {
   "cell_type": "code",
   "execution_count": 5,
   "metadata": {},
   "outputs": [],
   "source": [
    "def normalize(A):\n",
    "    mean = sum(A) / len(A)\n",
    "    deviation = [(element - mean)**2 for element in A]\n",
    "    std = np.sqrt((sum(deviation) / len(A)))\n",
    "    normalized = [(element - mean)/std for element in A]\n",
    "    return normalized"
   ]
  },
  {
   "cell_type": "code",
   "execution_count": 6,
   "metadata": {},
   "outputs": [
    {
     "data": {
      "text/plain": [
       "3"
      ]
     },
     "execution_count": 6,
     "metadata": {},
     "output_type": "execute_result"
    }
   ],
   "source": [
    "len(A)"
   ]
  },
  {
   "cell_type": "code",
   "execution_count": 7,
   "metadata": {},
   "outputs": [],
   "source": [
    "normalized=[normalize(A[i]) for i in range(len(A))]"
   ]
  },
  {
   "cell_type": "code",
   "execution_count": 10,
   "metadata": {},
   "outputs": [
    {
     "data": {
      "text/plain": [
       "3"
      ]
     },
     "execution_count": 10,
     "metadata": {},
     "output_type": "execute_result"
    }
   ],
   "source": [
    "len(normalized)"
   ]
  },
  {
   "cell_type": "markdown",
   "metadata": {},
   "source": [
    "### Step 2: get the covariance matrix"
   ]
  },
  {
   "cell_type": "code",
   "execution_count": 11,
   "metadata": {},
   "outputs": [],
   "source": [
    "x=normalized"
   ]
  },
  {
   "cell_type": "code",
   "execution_count": 12,
   "metadata": {},
   "outputs": [],
   "source": [
    "c=np.dot(np.transpose(x),x)/(len(A)-1)"
   ]
  },
  {
   "cell_type": "code",
   "execution_count": 13,
   "metadata": {},
   "outputs": [
    {
     "data": {
      "text/plain": [
       "3"
      ]
     },
     "execution_count": 13,
     "metadata": {},
     "output_type": "execute_result"
    }
   ],
   "source": [
    "len(A)"
   ]
  },
  {
   "cell_type": "markdown",
   "metadata": {},
   "source": [
    "### Step 3: Singular Vector Decomposition"
   ]
  },
  {
   "cell_type": "code",
   "execution_count": 14,
   "metadata": {},
   "outputs": [],
   "source": [
    "U, s, VT = svd(c)"
   ]
  },
  {
   "cell_type": "code",
   "execution_count": 15,
   "metadata": {},
   "outputs": [
    {
     "data": {
      "text/plain": [
       "(100,)"
      ]
     },
     "execution_count": 15,
     "metadata": {},
     "output_type": "execute_result"
    }
   ],
   "source": [
    "s.shape"
   ]
  },
  {
   "cell_type": "code",
   "execution_count": 16,
   "metadata": {},
   "outputs": [
    {
     "data": {
      "text/plain": [
       "array([[-0.17095808,  0.02758707, -0.02147219, ...,  0.08561065,\n",
       "         0.09562424,  0.03999048],\n",
       "       [ 0.01900714, -0.11093357, -0.06171569, ...,  0.16075557,\n",
       "        -0.00884492, -0.03320724],\n",
       "       [ 0.03010879,  0.03202759, -0.14408734, ..., -0.34467196,\n",
       "         0.10340751, -0.01671631],\n",
       "       ...,\n",
       "       [ 0.12638042,  0.07235378, -0.09044809, ..., -0.04164119,\n",
       "        -0.02232417, -0.15387309],\n",
       "       [ 0.13052351,  0.0495525 ,  0.05239628, ...,  0.03755079,\n",
       "         0.0965796 ,  0.09099108],\n",
       "       [ 0.20820333, -0.13113306, -0.02395092, ...,  0.15214228,\n",
       "        -0.11848385, -0.06318674]])"
      ]
     },
     "execution_count": 16,
     "metadata": {},
     "output_type": "execute_result"
    }
   ],
   "source": [
    "U"
   ]
  },
  {
   "cell_type": "code",
   "execution_count": 17,
   "metadata": {},
   "outputs": [
    {
     "data": {
      "text/plain": [
       "array([[-1.70958076e-01,  1.90071414e-02,  3.01087881e-02, ...,\n",
       "         1.26380418e-01,  1.30523514e-01,  2.08203331e-01],\n",
       "       [ 2.75870680e-02, -1.10933572e-01,  3.20275865e-02, ...,\n",
       "         7.23537838e-02,  4.95525038e-02, -1.31133055e-01],\n",
       "       [-2.14721880e-02, -6.17156942e-02, -1.44087336e-01, ...,\n",
       "        -9.04480940e-02,  5.23962843e-02, -2.39509186e-02],\n",
       "       ...,\n",
       "       [ 0.00000000e+00, -2.46394789e-02, -1.42458327e-02, ...,\n",
       "         8.23892072e-02, -2.91534403e-02, -1.49877665e-01],\n",
       "       [ 5.17061783e-01, -7.61204824e-02,  6.57030814e-03, ...,\n",
       "         4.23768516e-02, -1.14236508e-02, -6.73730019e-02],\n",
       "       [ 7.94477068e-01, -1.35392773e-01,  1.59035705e-02, ...,\n",
       "        -4.81450669e-04,  4.27596602e-02,  1.06738878e-01]])"
      ]
     },
     "execution_count": 17,
     "metadata": {},
     "output_type": "execute_result"
    }
   ],
   "source": [
    "VT"
   ]
  },
  {
   "cell_type": "markdown",
   "metadata": {},
   "source": [
    "### Step 4: Select importance components and transform the feature matrix"
   ]
  },
  {
   "cell_type": "code",
   "execution_count": 60,
   "metadata": {},
   "outputs": [
    {
     "data": {
      "text/plain": [
       "3"
      ]
     },
     "execution_count": 60,
     "metadata": {},
     "output_type": "execute_result"
    }
   ],
   "source": [
    "total = sum(s)\n",
    "temp = 0\n",
    "K = 0\n",
    "for i, a in enumerate(s):\n",
    "    temp += a\n",
    "    if temp / total > 0.9:\n",
    "         K = i + 1\n",
    "         break\n",
    "K"
   ]
  },
  {
   "cell_type": "markdown",
   "metadata": {},
   "source": [
    "### Step 5: Recover the original matrix"
   ]
  },
  {
   "cell_type": "code",
   "execution_count": 96,
   "metadata": {},
   "outputs": [],
   "source": [
    "X_rec = np.zeros((Z.shape[0],U.shape[0]))\n",
    "U_recude = U[:,0:K]\n",
    "X_rec = np.dot(Z,np.transpose(U_recude))  # 还原数据（近似）\n",
    "print(X_rec.shape)"
   ]
  }
 ],
 "metadata": {
  "kernelspec": {
   "display_name": "Python 3",
   "language": "python",
   "name": "python3"
  },
  "language_info": {
   "codemirror_mode": {
    "name": "ipython",
    "version": 3
   },
   "file_extension": ".py",
   "mimetype": "text/x-python",
   "name": "python",
   "nbconvert_exporter": "python",
   "pygments_lexer": "ipython3",
   "version": "3.7.9"
  }
 },
 "nbformat": 4,
 "nbformat_minor": 2
}
